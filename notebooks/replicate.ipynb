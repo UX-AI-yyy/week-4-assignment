{
  "cells": [
    {
      "cell_type": "code",
      "execution_count": null,
      "metadata": {
        "id": "eCybemN7bn4G"
      },
      "outputs": [],
      "source": [
        "!pip install replicate"
      ]
    },
    {
      "cell_type": "code",
      "execution_count": null,
      "metadata": {
        "id": "wq4tPsYhbp7S"
      },
      "outputs": [],
      "source": [
        "import requests\n",
        "\n",
        "import replicate\n",
        "\n",
        "from io import BytesIO\n",
        "from PIL import Image as PImage\n",
        "\n",
        "from env import REPLICATE_API_KEY"
      ]
    },
    {
      "cell_type": "code",
      "execution_count": null,
      "metadata": {
        "id": "S2YKhezLcpQt"
      },
      "outputs": [],
      "source": [
        "client = replicate.Client(api_token=REPLICATE_API_KEY)"
      ]
    },
    {
      "cell_type": "code",
      "execution_count": null,
      "metadata": {
        "id": "QkqRb7UdcZAA"
      },
      "outputs": [],
      "source": [
        "output = client.run(\n",
        "  \"luma/photon\",\n",
        "  input={\n",
        "    \"prompt\": \"cinematic still, film noir, 1940s, woman driving a car and smoking a cigarette\",\n",
        "    \"aspect_ratio\": \"16:9\",\n",
        "    \"image_reference_weight\": 0.85,\n",
        "    \"style_reference_weight\": 0.85\n",
        "  }\n",
        ")\n",
        "\n",
        "img_data = requests.get(output).content\n",
        "img = PImage.open(BytesIO(img_data))\n",
        "\n",
        "display(img)"
      ]
    },
    {
      "cell_type": "code",
      "execution_count": null,
      "metadata": {
        "id": "k1bIpS-DinNw"
      },
      "outputs": [],
      "source": [
        "output = client.run(\n",
        "  \"luma/photon-flash\",\n",
        "  input={\n",
        "    \"prompt\": \"cinematic still, film noir, 1940s, woman driving a car and smoking a cigarette\",\n",
        "    \"aspect_ratio\": \"16:9\",\n",
        "    \"image_reference_weight\": 0.85,\n",
        "    \"style_reference_weight\": 0.85\n",
        "  }\n",
        ")\n",
        "\n",
        "img_data = requests.get(output).content\n",
        "img = PImage.open(BytesIO(img_data))\n",
        "\n",
        "display(img)"
      ]
    },
    {
      "cell_type": "code",
      "execution_count": null,
      "metadata": {
        "id": "GnC1vpSYe6RA"
      },
      "outputs": [],
      "source": [
        "output = client.run(\n",
        "  \"nvidia/sana:c6b5d2b7459910fec94432e9e1203c3cdce92d6db20f714f1355747990b52fa6\",\n",
        "  input={\n",
        "    \"width\": 1024,\n",
        "    \"height\": 1024,\n",
        "    \"prompt\": \"a cyberpunk woman from the 1940s with a neon sign that says \\\"Cigarettes\\\"\",\n",
        "    \"model_variant\": \"1600M-1024px\",\n",
        "    \"guidance_scale\": 5,\n",
        "    \"negative_prompt\": \"\",\n",
        "    \"pag_guidance_scale\": 2,\n",
        "    \"num_inference_steps\": 18\n",
        "})\n",
        "\n",
        "print(output)\n",
        "\n",
        "#img_data = requests.get(output).content\n",
        "#img = PImage.open(BytesIO(img_data))\n",
        "\n",
        "#display(img)"
      ]
    },
    {
      "cell_type": "code",
      "execution_count": null,
      "metadata": {
        "id": "MmCv01wfgeal"
      },
      "outputs": [],
      "source": [
        "output = client.run(\n",
        "  \"bytedance/sdxl-lightning-4step:5599ed30703defd1d160a25a63321b4dec97101d98b4674bcc56e41f62f35637\",\n",
        "  input={\n",
        "      \"width\": 1024,\n",
        "      \"height\": 1024,\n",
        "      \"prompt\": \"a cyberpunk woman from the 1940s with a neon sign that says \\\"Cigarettes\\\"\",\n",
        "      \"scheduler\": \"K_EULER\",\n",
        "      \"num_outputs\": 1,\n",
        "      \"guidance_scale\": 0,\n",
        "      \"negative_prompt\": \"worst quality, low quality\",\n",
        "      \"num_inference_steps\": 4\n",
        "})\n",
        "\n",
        "img_data = output[0].read()\n",
        "img = PImage.open(BytesIO(img_data))\n",
        "\n",
        "display(img)"
      ]
    },
    {
      "cell_type": "code",
      "execution_count": null,
      "metadata": {
        "id": "YKcJg641gzP0"
      },
      "outputs": [],
      "source": [
        "output = client.run(\n",
        "  \"stability-ai/stable-diffusion:ac732df83cea7fff18b8472768c88ad041fa750ff7682a21affe81863cbe77e4\",\n",
        "  input={\n",
        "    \"width\": 768,\n",
        "    \"height\": 768,\n",
        "    \"prompt\": \"an elegant woman from the 1940s with a neon sign that says \\\"Cigarettes\\\"\",\n",
        "    \"scheduler\": \"K_EULER\",\n",
        "    \"num_outputs\": 1,\n",
        "    \"guidance_scale\": 7.5,\n",
        "    \"num_inference_steps\": 50\n",
        "})\n",
        "\n",
        "img_data = output[0].read()\n",
        "img = PImage.open(BytesIO(img_data))\n",
        "\n",
        "display(img)"
      ]
    }
  ],
  "metadata": {
    "colab": {
      "provenance": []
    },
    "kernelspec": {
      "display_name": "Python 3",
      "name": "python3"
    },
    "language_info": {
      "name": "python"
    }
  },
  "nbformat": 4,
  "nbformat_minor": 0
}
