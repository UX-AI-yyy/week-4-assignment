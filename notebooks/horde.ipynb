{
 "cells": [
  {
   "cell_type": "code",
   "execution_count": null,
   "metadata": {},
   "outputs": [],
   "source": [
    "!pip install horde_sdk"
   ]
  },
  {
   "cell_type": "code",
   "execution_count": null,
   "metadata": {},
   "outputs": [],
   "source": [
    "from horde_sdk.ai_horde_api import KNOWN_SAMPLERS\n",
    "from horde_sdk.ai_horde_api.ai_horde_clients import AIHordeAPISimpleClient\n",
    "\n",
    "from horde_sdk.ai_horde_api.apimodels import (\n",
    "  ImageGenerateAsyncRequest,\n",
    "  ImageGenerationInputPayload,\n",
    "  LorasPayloadEntry,\n",
    ")"
   ]
  },
  {
   "cell_type": "code",
   "execution_count": null,
   "metadata": {},
   "outputs": [],
   "source": [
    "HORDE_API_KEY = \"0000000000\""
   ]
  },
  {
   "cell_type": "code",
   "execution_count": null,
   "metadata": {},
   "outputs": [],
   "source": [
    "simple_client = AIHordeAPISimpleClient()\n",
    "\n",
    "loras_entry = LorasPayloadEntry(\n",
    "  name=\"GlowingRunesAI\",\n",
    "  model=1,\n",
    "  clip=1,\n",
    "  inject_trigger=\"any\",\n",
    ")\n",
    "\n",
    "image_generate_async_request = ImageGenerateAsyncRequest(\n",
    "  apikey=HORDE_API_KEY,\n",
    "  prompt=\"a cat in a hat with a bat\",\n",
    "  models=[\"AlbedoBase XL (SDXL)\"],\n",
    "  params=ImageGenerationInputPayload(\n",
    "    sampler_name=KNOWN_SAMPLERS.k_euler,\n",
    "    cfg_scale=4,\n",
    "    width=512,\n",
    "    height=512,\n",
    "    hires_fix=False,\n",
    "    clip_skip=1,\n",
    "    steps=30,\n",
    "    loras=[loras_entry],\n",
    "    # n=3, # Number of images to generate via batch generation\n",
    "  ),\n",
    ")"
   ]
  },
  {
   "cell_type": "code",
   "execution_count": null,
   "metadata": {},
   "outputs": [],
   "source": [
    "status_response, job_id = simple_client.image_generate_request(image_generate_async_request)"
   ]
  },
  {
   "cell_type": "code",
   "execution_count": null,
   "metadata": {},
   "outputs": [],
   "source": [
    "if len(status_response.generations) == 0:\n",
    "  raise ValueError(\"No generations returned in the response.\")\n",
    "\n",
    "for generation in status_response.generations:\n",
    "  print(\"Image generation:\")\n",
    "  print(f\"ID: {generation.id_}\")\n",
    "  print(f\"URL: {generation.img}\")\n",
    "  print(\"Downloading image...\")\n",
    "\n",
    "  image_pil = simple_client.download_image_from_generation(generation)\n",
    "  display(image_pil)"
   ]
  }
 ],
 "metadata": {
  "language_info": {
   "name": "python"
  }
 },
 "nbformat": 4,
 "nbformat_minor": 2
}
