{
 "cells": [
  {
   "cell_type": "code",
   "execution_count": null,
   "metadata": {},
   "outputs": [],
   "source": [
    "import requests\n",
    "\n",
    "from io import BytesIO as Bytes\n",
    "from openai import OpenAI\n",
    "from PIL import Image\n",
    "\n",
    "from env import OPENAI_API_KEY\n",
    "\n",
    "client = OpenAI(api_key=OPENAI_API_KEY)"
   ]
  },
  {
   "cell_type": "code",
   "execution_count": null,
   "metadata": {},
   "outputs": [],
   "source": [
    "generated = client.images.generate(\n",
    "  model=\"dall-e-2\",\n",
    "  prompt=\"A picture of an anthropomorphic egg smoking a cigarette in the 1940s\",\n",
    "  size=\"512x512\",\n",
    "  n=1\n",
    ")\n",
    "\n",
    "print(generated)"
   ]
  },
  {
   "cell_type": "code",
   "execution_count": null,
   "metadata": {},
   "outputs": [],
   "source": [
    "img_url = generated.data[0].url\n",
    "response = requests.get(img_url)\n",
    "if response.status_code == 200:\n",
    "  img = Image.open(Bytes(response.content))\n",
    "  img.thumbnail((256,256))\n",
    "\n",
    "display(img)"
   ]
  }
 ],
 "metadata": {
  "kernelspec": {
   "display_name": "9103",
   "language": "python",
   "name": "python3"
  },
  "language_info": {
   "codemirror_mode": {
    "name": "ipython",
    "version": 3
   },
   "file_extension": ".py",
   "mimetype": "text/x-python",
   "name": "python",
   "nbconvert_exporter": "python",
   "pygments_lexer": "ipython3",
   "version": "3.10.15"
  }
 },
 "nbformat": 4,
 "nbformat_minor": 2
}
