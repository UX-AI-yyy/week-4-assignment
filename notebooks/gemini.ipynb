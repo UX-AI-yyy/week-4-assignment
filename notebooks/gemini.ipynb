{
  "cells": [
    {
      "cell_type": "code",
      "execution_count": null,
      "metadata": {
        "id": "iW2kW_kz-9Ew"
      },
      "outputs": [],
      "source": [
        "from google import genai\n",
        "from google.genai.types import Part, GenerateImageConfig\n",
        "\n",
        "from env import GEMINI_API_KEY\n",
        "\n",
        "client = genai.Client(api_key=GEMINI_API_KEY)\n"
      ]
    },
    {
      "cell_type": "markdown",
      "metadata": {
        "id": "Y-hjoPcbBX8V"
      },
      "source": [
        "### Text Prompt"
      ]
    },
    {
      "cell_type": "code",
      "execution_count": null,
      "metadata": {
        "id": "P5JZ0vYN_CcI"
      },
      "outputs": [],
      "source": [
        "response = response = client.models.generate_content(\n",
        "  model=\"gemini-2.0-flash-exp\",\n",
        "  contents=\"explain Gudetama using 100 words or less\"\n",
        ")\n",
        "\n",
        "print(response.text)"
      ]
    },
    {
      "cell_type": "markdown",
      "metadata": {
        "id": "GIeyWkMqBZdp"
      },
      "source": [
        "### Image Description"
      ]
    },
    {
      "cell_type": "code",
      "execution_count": null,
      "metadata": {
        "id": "0VCoVj81BGLs"
      },
      "outputs": [],
      "source": [
        "with open(\"./GDTM.jpg\", \"rb\") as image_file:\n",
        "  image_b = image_file.read()\n",
        "\n",
        "response = response = client.models.generate_content(\n",
        "  model=\"gemini-2.0-flash-exp\",\n",
        "  contents=[\n",
        "    Part.from_text(\"What's in this image?\"),\n",
        "    Part.from_bytes(data=image_b, mime_type=\"image/jpeg\")\n",
        "  ]\n",
        ")\n",
        "\n",
        "print(response.text)"
      ]
    },
    {
      "cell_type": "markdown",
      "metadata": {},
      "source": [
        "### Image Generation"
      ]
    },
    {
      "cell_type": "code",
      "execution_count": null,
      "metadata": {
        "id": "6_A2oTbnCkW8"
      },
      "outputs": [],
      "source": [
        "response = client.models.generate_image(\n",
        "  model=\"imagen-3.0\",\n",
        "  prompt=\"Fuzzy bunnies in my kitchen\",\n",
        "  config=GenerateImageConfig(\n",
        "    negative_prompt = 'people',\n",
        "    number_of_images = 1,\n",
        "    include_rai_reason = True,\n",
        "    output_mime_type = 'image/jpeg'\n",
        "  )\n",
        ")\n",
        "\n",
        "response.generated_images[0].image.show()"
      ]
    }
  ],
  "metadata": {
    "colab": {
      "provenance": []
    },
    "kernelspec": {
      "display_name": "Python 3",
      "name": "python3"
    },
    "language_info": {
      "name": "python"
    }
  },
  "nbformat": 4,
  "nbformat_minor": 0
}
